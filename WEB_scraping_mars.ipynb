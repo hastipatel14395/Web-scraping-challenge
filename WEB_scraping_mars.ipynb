{
 "cells": [
  {
   "cell_type": "code",
   "execution_count": 1,
   "metadata": {},
   "outputs": [],
   "source": [
    "#Import dependecies\n",
    "from splinter import Browser\n",
    "from bs4 import BeautifulSoup\n",
    "import pandas as pd\n",
    "import time\n",
    "import os"
   ]
  },
  {
   "cell_type": "code",
   "execution_count": 2,
   "metadata": {},
   "outputs": [],
   "source": [
    "# All URL\n",
    "URL_mars_news = \"https://mars.nasa.gov/news/\"\n",
    "URL_mars_image = \"https://www.jpl.nasa.gov/spaceimages/?search=&category=Mars\"\n",
    "URL_mars_weather = \"https://twitter.com/marswxreport?lang=en\"\n",
    "URL_mars_facts = \"http://space-facts.com/mars/\"\n",
    "URL_mars_hemispheres = \"https://astrogeology.usgs.gov/search/results?q=hemisphere+enhanced&k1=target&v1=Mars\"\n"
   ]
  },
  {
   "cell_type": "code",
   "execution_count": 4,
   "metadata": {},
   "outputs": [
    {
     "ename": "UnboundLocalError",
     "evalue": "local variable 'e' referenced before assignment",
     "output_type": "error",
     "traceback": [
      "\u001b[0;31m---------------------------------------------------------------------------\u001b[0m",
      "\u001b[0;31mUnboundLocalError\u001b[0m                         Traceback (most recent call last)",
      "\u001b[0;32m<ipython-input-4-cc1518314d6d>\u001b[0m in \u001b[0;36m<module>\u001b[0;34m\u001b[0m\n\u001b[1;32m      1\u001b[0m \u001b[0mexecutable_path\u001b[0m \u001b[0;34m=\u001b[0m \u001b[0;34m{\u001b[0m\u001b[0;34m'executable_path'\u001b[0m\u001b[0;34m:\u001b[0m \u001b[0;34m'/Users/local/bin/chromedriver'\u001b[0m\u001b[0;34m}\u001b[0m\u001b[0;34m\u001b[0m\u001b[0;34m\u001b[0m\u001b[0m\n\u001b[0;32m----> 2\u001b[0;31m \u001b[0mbrowser\u001b[0m \u001b[0;34m=\u001b[0m \u001b[0mBrowser\u001b[0m\u001b[0;34m(\u001b[0m\u001b[0;34m'chrome'\u001b[0m\u001b[0;34m,\u001b[0m \u001b[0;34m**\u001b[0m\u001b[0mexecutable_path\u001b[0m\u001b[0;34m,\u001b[0m \u001b[0mheadless\u001b[0m\u001b[0;34m=\u001b[0m\u001b[0;32mTrue\u001b[0m\u001b[0;34m)\u001b[0m\u001b[0;34m\u001b[0m\u001b[0;34m\u001b[0m\u001b[0m\n\u001b[0m",
      "\u001b[0;32m~/opt/anaconda3/lib/python3.7/site-packages/splinter/browser.py\u001b[0m in \u001b[0;36mBrowser\u001b[0;34m(driver_name, retry_count, *args, **kwargs)\u001b[0m\n\u001b[1;32m     88\u001b[0m         \u001b[0;32mraise\u001b[0m \u001b[0mDriverNotFoundError\u001b[0m\u001b[0;34m(\u001b[0m\u001b[0;34m\"No driver for %s\"\u001b[0m \u001b[0;34m%\u001b[0m \u001b[0mdriver_name\u001b[0m\u001b[0;34m)\u001b[0m\u001b[0;34m\u001b[0m\u001b[0;34m\u001b[0m\u001b[0m\n\u001b[1;32m     89\u001b[0m \u001b[0;34m\u001b[0m\u001b[0m\n\u001b[0;32m---> 90\u001b[0;31m     \u001b[0;32mreturn\u001b[0m \u001b[0mget_driver\u001b[0m\u001b[0;34m(\u001b[0m\u001b[0mdriver\u001b[0m\u001b[0;34m,\u001b[0m \u001b[0;34m*\u001b[0m\u001b[0margs\u001b[0m\u001b[0;34m,\u001b[0m \u001b[0;34m**\u001b[0m\u001b[0mkwargs\u001b[0m\u001b[0;34m)\u001b[0m\u001b[0;34m\u001b[0m\u001b[0;34m\u001b[0m\u001b[0m\n\u001b[0m",
      "\u001b[0;32m~/opt/anaconda3/lib/python3.7/site-packages/splinter/browser.py\u001b[0m in \u001b[0;36mget_driver\u001b[0;34m(driver, retry_count, *args, **kwargs)\u001b[0m\n\u001b[1;32m     66\u001b[0m             \u001b[0;32mpass\u001b[0m\u001b[0;34m\u001b[0m\u001b[0;34m\u001b[0m\u001b[0m\n\u001b[1;32m     67\u001b[0m \u001b[0;34m\u001b[0m\u001b[0m\n\u001b[0;32m---> 68\u001b[0;31m     \u001b[0;32mraise\u001b[0m \u001b[0me\u001b[0m\u001b[0;34m\u001b[0m\u001b[0;34m\u001b[0m\u001b[0m\n\u001b[0m\u001b[1;32m     69\u001b[0m \u001b[0;34m\u001b[0m\u001b[0m\n\u001b[1;32m     70\u001b[0m \u001b[0;34m\u001b[0m\u001b[0m\n",
      "\u001b[0;31mUnboundLocalError\u001b[0m: local variable 'e' referenced before assignment"
     ]
    }
   ],
   "source": [
    "executable_path = {'executable_path': '/usr/local/bin/chromedriver'}\n",
    "browser = Browser('chrome', **executable_path, headless=True)"
   ]
  },
  {
   "cell_type": "code",
   "execution_count": null,
   "metadata": {},
   "outputs": [],
   "source": [
    "mars_news_url = 'https://mars.nasa.gov/news/?page=0&per_page=40&order=publish_date+desc%2Ccreated_at+desc&search=&category=19%2C165%2C184%2C204&blank_scope=Latest'\n",
    "browser.visit(mars_news_url)"
   ]
  },
  {
   "cell_type": "code",
   "execution_count": null,
   "metadata": {},
   "outputs": [],
   "source": [
    "browser.wait_time = 10"
   ]
  },
  {
   "cell_type": "code",
   "execution_count": null,
   "metadata": {},
   "outputs": [],
   "source": [
    "#Set beautifulsoup object\n",
    "mars_news_html = browser.html\n",
    "mars_news_soup = BeautifulSoup(mars_news_html, 'html.parser')\n",
    "\n",
    "#Review webpage and get html tag and class for searcg\n",
    "mars_news = mars_news_soup.find_all('div', class_='list_text')\n",
    "\n",
    "#Loop through news\n",
    "for news in mars_news:\n",
    "    try:\n",
    "        #Save news tilte and news paragraph\n",
    "        news_title=news.find('div', class_='content_title').text\n",
    "        news_p=news.find('div', class_='article_teaser_body').text\n",
    "        \n",
    "        #Print results\n",
    "        print(\"news_title = \", news_title,\"\\n\")\n",
    "        print(\"news_p = \", news_p,\"\\n\")\n",
    "        \n",
    "        #Exit loop as we got the latest news\n",
    "        break\n",
    "    except:\n",
    "        #If error continue to next news - this is simply to make sure we have news title and news paragraph \n",
    "        pass"
   ]
  },
  {
   "cell_type": "code",
   "execution_count": null,
   "metadata": {},
   "outputs": [],
   "source": [
    "#JPL base url\n",
    "jpl_base_url ='https://www.jpl.nasa.gov'\n"
   ]
  },
  {
   "cell_type": "code",
   "execution_count": null,
   "metadata": {},
   "outputs": [],
   "source": [
    "\n",
    "#Set JPL seach url and visit the browser\n",
    "jpl_url = 'https://www.jpl.nasa.gov/spaceimages/details.php?id=PIA02570'\n",
    "browser.visit(jpl_url)"
   ]
  },
  {
   "cell_type": "code",
   "execution_count": null,
   "metadata": {},
   "outputs": [],
   "source": [
    "browser.wait_time = 10\n",
    "\n",
    "#Get soup oject\n",
    "jpl_html = browser.html\n",
    "jpl_soup = BeautifulSoup(jpl_html, 'html.parser')"
   ]
  },
  {
   "cell_type": "code",
   "execution_count": null,
   "metadata": {},
   "outputs": [],
   "source": [
    "jpl_image_urls = jpl_soup.find_all('figure', class_='lede')\n",
    "\n",
    "#Get to specific URL\n",
    "for jpg_image_url in jpl_image_urls:\n",
    "    featured_image_url = jpl_base_url+jpg_image_url.find(\"a\")[\"href\"]\n",
    "    print(\"featuredimageurl = \", featured_image_url)"
   ]
  },
  {
   "cell_type": "code",
   "execution_count": null,
   "metadata": {},
   "outputs": [],
   "source": []
  },
  {
   "cell_type": "code",
   "execution_count": null,
   "metadata": {},
   "outputs": [],
   "source": [
    "#Mars weather tweeter handle\n",
    "mars_weather_twit_handle=\"https://twitter.com/marswxreport?lang=en\"\n",
    "browser.visit(mars_weather_twit_handle)"
   ]
  },
  {
   "cell_type": "code",
   "execution_count": null,
   "metadata": {},
   "outputs": [],
   "source": [
    "#Add wait time to load browser\n",
    "browser.wait_time = 30\n",
    "\n",
    "#Get the beautifulsoup object\n",
    "mars_weather_twit_html = browser.html\n",
    "mars_weather_twit_soup = BeautifulSoup(mars_weather_twit_html, 'html.parser')"
   ]
  },
  {
   "cell_type": "code",
   "execution_count": null,
   "metadata": {},
   "outputs": [],
   "source": [
    "#Parse tweet page using span tag and class\n",
    "mars_weather_tweets= mars_weather_twit_soup.find_all(\"span\",class_=\"css-901oao css-16my406 r-1qd0xha r-ad9z0x r-bcqeeo r-qvutc0\")"
   ]
  },
  {
   "cell_type": "code",
   "execution_count": null,
   "metadata": {},
   "outputs": [],
   "source": [
    "#Loop through tweets - we just need latest\n",
    "for mars_weather_tweet in mars_weather_tweets:\n",
    "    #Get the Insight text - this is where weather info starts\n",
    "    try:\n",
    "        if (mars_weather_tweet.text.split()[0]==\"InSight\"):\n",
    "            mars_weather =mars_weather_tweet.text\n",
    "            print(mars_weather)\n",
    "            break\n",
    "    except:\n",
    "        pass"
   ]
  },
  {
   "cell_type": "code",
   "execution_count": null,
   "metadata": {},
   "outputs": [],
   "source": [
    "#Set url value\n",
    "mars_fact_url=\"https://space-facts.com/mars/\""
   ]
  },
  {
   "cell_type": "code",
   "execution_count": null,
   "metadata": {},
   "outputs": [],
   "source": [
    "#Use Pandas to get html table \n",
    "mars_fact_dfs = pd.read_html(mars_fact_url)"
   ]
  },
  {
   "cell_type": "code",
   "execution_count": null,
   "metadata": {},
   "outputs": [],
   "source": [
    "#Get first table and display\n",
    "mars_fact_df=mars_fact_dfs[0]\n",
    "mars_fact_df"
   ]
  },
  {
   "cell_type": "code",
   "execution_count": null,
   "metadata": {},
   "outputs": [],
   "source": [
    "#Rename df columns\n",
    "mars_fact_df= mars_fact_df.rename(columns={0:\"Description\",1:\"Value\"})"
   ]
  },
  {
   "cell_type": "code",
   "execution_count": null,
   "metadata": {},
   "outputs": [],
   "source": [
    "#Set index= False to avoid getting index column.\n",
    "mars_fact_df = mars_fact_df.to_html(index=False)\n",
    "\n",
    "#Remove new line character\n",
    "mars_fact_df.replace(\"\\n\",\"\")"
   ]
  },
  {
   "cell_type": "code",
   "execution_count": null,
   "metadata": {},
   "outputs": [],
   "source": [
    "#Display results\n",
    "mars_fact_df"
   ]
  },
  {
   "cell_type": "code",
   "execution_count": null,
   "metadata": {},
   "outputs": [],
   "source": []
  },
  {
   "cell_type": "code",
   "execution_count": null,
   "metadata": {},
   "outputs": [],
   "source": [
    "#Set base url\n",
    "mars_hemispheres_base_url=\"https://astrogeology.usgs.gov\""
   ]
  },
  {
   "cell_type": "code",
   "execution_count": null,
   "metadata": {},
   "outputs": [],
   "source": [
    "#Set Mars Hemispheres URL and visit the site\n",
    "mars_hemispheres_url=\"https://astrogeology.usgs.gov/search/results?q=hemisphere+enhanced&k1=target&v1=Mars\"\n",
    "browser.visit(mars_hemispheres_url)"
   ]
  },
  {
   "cell_type": "code",
   "execution_count": null,
   "metadata": {},
   "outputs": [],
   "source": [
    "#Add wait time to load browser\n",
    "browser.wait_time = 10\n",
    "\n",
    "#Set beacutifulsoup oject\n",
    "mars_hemispheres_html = browser.html\n",
    "mars_hemispheres_soup = BeautifulSoup(mars_hemispheres_html, 'html.parser')"
   ]
  },
  {
   "cell_type": "code",
   "execution_count": null,
   "metadata": {},
   "outputs": [],
   "source": [
    "#Search through html document to get to list of items\n",
    "mars_hemispheres= mars_hemispheres_soup.find_all(\"div\",class_=\"item\")"
   ]
  },
  {
   "cell_type": "code",
   "execution_count": null,
   "metadata": {},
   "outputs": [],
   "source": [
    "#Let's build title list and page name list that will give us high res image\n",
    "titles=[]\n",
    "hemisphere_urls=[]\n",
    "\n",
    "#Loop through beautifulsoup results\n",
    "for mars_hemisphere in mars_hemispheres:\n",
    "    #Search for h3 tag to get title\n",
    "    mars_title =mars_hemisphere.find(\"h3\").text\n",
    "    #Append title to list\n",
    "    titles.append(mars_title)\n",
    "    #Get page reference\n",
    "    pagelink=mars_hemispheres_base_url +mars_hemisphere.a['href']\n",
    "    #Sppend page link to list\n",
    "    hemisphere_urls.append(pagelink)\n",
    "    \n",
    "    #Display results - just for sanity check\n",
    "    print(mars_title)\n",
    "    print(pagelink,\"\\n\")"
   ]
  },
  {
   "cell_type": "code",
   "execution_count": null,
   "metadata": {},
   "outputs": [],
   "source": []
  },
  {
   "cell_type": "code",
   "execution_count": null,
   "metadata": {},
   "outputs": [],
   "source": [
    "#Get List of high res image\n",
    "hemisphere_full_img=[]\n",
    "\n",
    "#Let's loop through each URL\n",
    "for hemisphere_url in hemisphere_urls:\n",
    "    #Visit browser\n",
    "    browser.visit(hemisphere_url)\n",
    "    hemisphere_full_html = browser.html\n",
    "    \n",
    "    #Add wait time to load browser\n",
    "    browser.wait_time = 10\n",
    "    \n",
    "    #Get beautifulsoup oject\n",
    "    hemisphere_full_soup = BeautifulSoup(hemisphere_full_html, 'html.parser')\n",
    "    \n",
    "    #Parse div tages of download class\n",
    "    mars_hemisphere_full_images= hemisphere_full_soup.find_all(\"div\",class_=\"downloads\")\n",
    "    \n",
    "    #Loop through list\n",
    "    for mars_hemisphere_full_image in mars_hemisphere_full_images:\n",
    "        #Get the a tag and href value\n",
    "        #imgurls = mars_image.find_all(\"li\")\n",
    "        image_url = mars_hemisphere_full_image.a['href']\n",
    "        #Append url in to list \n",
    "        hemisphere_full_img.append(image_url)\n",
    "        print(image_url)"
   ]
  },
  {
   "cell_type": "code",
   "execution_count": null,
   "metadata": {},
   "outputs": [],
   "source": [
    "#Build disctionary object\n",
    "hemisphere_full_imgs=[]\n",
    "\n",
    "#Pandas to convert lists to dictionary \n",
    "hemisphereimageurls = {} \n",
    "\n",
    "#Create df\n",
    "hemisphereimageurls_df=pd.DataFrame({\"title\":titles,\"img_url\":hemisphere_full_img})\n",
    "\n",
    "#Convert df to dictionary\n",
    "hemisphereimageurls = hemisphereimageurls_df.to_dict(orient='records')\n",
    "\n",
    "#Show Disctionary object - final resuts\n",
    "print(\"hemisphereimageurls =\", hemisphereimageurls)"
   ]
  },
  {
   "cell_type": "code",
   "execution_count": null,
   "metadata": {},
   "outputs": [],
   "source": [
    "#Close browser\n",
    "browser.quit()"
   ]
  }
 ],
 "metadata": {
  "kernelspec": {
   "display_name": "Python 3",
   "language": "python",
   "name": "python3"
  },
  "language_info": {
   "codemirror_mode": {
    "name": "ipython",
    "version": 3
   },
   "file_extension": ".py",
   "mimetype": "text/x-python",
   "name": "python",
   "nbconvert_exporter": "python",
   "pygments_lexer": "ipython3",
   "version": "3.7.4"
  }
 },
 "nbformat": 4,
 "nbformat_minor": 2
}
